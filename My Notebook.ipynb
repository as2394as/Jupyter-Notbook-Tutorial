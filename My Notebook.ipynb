{
 "cells": [
  {
   "cell_type": "markdown",
   "id": "a43fe8d6",
   "metadata": {},
   "source": [
    "# Table Of Content\n",
    "\n",
    "\n",
    "* [Title and Abstract](#the_title)\n",
    "* [Objectives](#the_objectives)\n",
    "* [Similar Tutorials online](#the_similar)\n",
    "* [Content](#the_content)\n",
    "    * [More On Jupyter Notebooks](#the_extra)\n",
    "    * [Installation](#the_installation)\n",
    "        * [windows](#the_windows)\n",
    "        * [macos](#the_mac)\n",
    "    * [Starting Jupyter](#the_jupyter)\n",
    "    * [Creating a Notebook](#the_notebook)\n",
    "    * [Working With Jupyter Nootebook](#the_working_jupyter)\n",
    "    * [Getting Our Hands Dirty With pandas](#the_pandas)\n",
    "    * [Creating your own data using Numpy](#the_numpy)\n",
    "    * [Logistic Regression Using numpy and pandas](#the_logistic)\n",
    "    * [Linear Regression Using Basic Numpy and Pandas](#the_basic_lr)\n",
    "    * [Linear Regression Using sklearn](#the_sklearn)\n",
    "    * [Conclusion](#the_conclusion)\n",
    "    * [References](#the_reference)"
   ]
  },
  {
   "cell_type": "markdown",
   "id": "0a4a16bc",
   "metadata": {},
   "source": [
    "#  MY NOTEBOOK FOR ALL <a id='the_title'><a/>"
   ]
  },
  {
   "cell_type": "markdown",
   "id": "db0f218c",
   "metadata": {},
   "source": [
    "This is my notebook which I have created to explain about Jupyter and some libraries in python and how we can take advantage of jupyter features to showcase python code and results together. I went to the internet and saw that there are many tutorials available online but none of them are compiled and well organised to give all the info at one place. I saw that some have better instructions to set up a notebook for beginers and some have advanced instructions to play with some python libraries but none have every bit to get you started with jupyter functionalities and code in it. Here you will have compact instructions for below things in one notebook.\n",
    "* Installation\n",
    "* Some features of Jupyter\n",
    "* Using Numpy for implementing some math\n",
    "* Uising Pandas to create and manipulate DataFrames\n",
    "* Using numpy and pandas to build Logistic Regression Model and use matplotlib to show a graph of how cost/loss changes w.r.t the epochs for the model\n",
    "* Implement Simple Linear Regression with numpy and pandas and show the results using matplotlib\n",
    "* Use a Specialised library(skLearn) to implement Sinple Linear Rgression\n",
    "* Conlusion and some references that helped me.\n",
    "\n",
    "    Let's get started!!"
   ]
  },
  {
   "cell_type": "markdown",
   "id": "214aa1da",
   "metadata": {},
   "source": [
    "# Objectives  <a id='the_objectives'><a/>"
   ]
  },
  {
   "cell_type": "markdown",
   "id": "68002d82",
   "metadata": {},
   "source": [
    "I am planning to go step by step from easy to difficult concepts to make you comfortable working with jupyter. Let me     give you a brief overview of the whole scope and what to expect from this tutorial. We are going to first dive into how to 'easily' install jupyter in windows and MACs and then I will explain how to setup a simple notebook and start exploring   all the features and shortcut as you go so that you can try them on your own and not just look for tutorials like this every time for a small thing! Then, Once we are familiar with how to start a notebook we will look about how to import data, build basic machine learning models on that data and plot some graphs."
   ]
  },
  {
   "cell_type": "markdown",
   "id": "7463e229",
   "metadata": {},
   "source": [
    "# Similar but not better <a id='the_similar'><a/>"
   ]
  },
  {
   "cell_type": "markdown",
   "id": "28172b31",
   "metadata": {},
   "source": [
    "You may find many tutorials online where I'm sure you will hop from one turorial to another to first get the installation intructuions and then getting started with jupyter Notebooks and coding. You will also need to look for some tutorial to use python libraries like pandas, numpy, matplotlib and sklearn. But here you will find everything together in a compact way and easily explained.\n",
    "\n",
    "I do appreciate other tutorials but here you will see that I have followed an easy to not so hard pattern which is always better to make the reader unserstand the concept and then implement what they learnt in their own environment."
   ]
  },
  {
   "cell_type": "markdown",
   "id": "84559597",
   "metadata": {},
   "source": [
    "# Content <a id='the_content'><a/>"
   ]
  },
  {
   "cell_type": "code",
   "execution_count": 25,
   "id": "9546a754",
   "metadata": {},
   "outputs": [
    {
     "name": "stdout",
     "output_type": "stream",
     "text": [
      "I just ran a python statement\n"
     ]
    }
   ],
   "source": [
    "print(\"I just ran a python statement\")"
   ]
  },
  {
   "cell_type": "markdown",
   "id": "c18675d4",
   "metadata": {},
   "source": [
    "We can write code in Jupyter Notebook multiple different languages like Java, R, Julia, Matlab, Octave, Scheme ,Python and many more. In this tutorial we will learn about Jupyter, some libraries in python and how to use them.\n",
    "\n",
    "Jupyter Notebooks is nothing but a collection of **cells** of python script or description texts that you can execute and keep adding the cells as you build the script. One interesting thing is that in between if you want to add a little description about your code then you can add a text cell which is called adding a **markdown**. All the script and markdown cells in a notebook are stored on a file with extension **.ipynb** on the root directory where you started your cmd to run jupyter."
   ]
  },
  {
   "cell_type": "markdown",
   "id": "4db4b4be",
   "metadata": {},
   "source": [
    "### More On Jupyter Notebooks <a id='the_extra'><a/>"
   ]
  },
  {
   "cell_type": "markdown",
   "id": "0717f9e0",
   "metadata": {},
   "source": [
    "To find out more about jupyter I would suggest to got to the people who developed it and documented everything about it:- https://docs.jupyter.org/en/latest/#jupyter-project-documentation"
   ]
  },
  {
   "cell_type": "markdown",
   "id": "bed3f221",
   "metadata": {},
   "source": [
    "### Installation <a id='the_installation'><a/>"
   ]
  },
  {
   "cell_type": "markdown",
   "id": "9cbe820b",
   "metadata": {},
   "source": [
    "Although its very simple to just type on the google install jupyter on windows or MAC but what most of the tutorial or resources would suggest you is to download anaconda but in this tutorial I will suggest an easier option. As this is a tutorial about Jupyter we will only revolve around Jupyter and slowly start adding more to it.\n",
    "To get started you just need Python installed on your PC and then you just need to install Jupyter as a package to run a simple command on the command prompt on windows or terminal on mac to start a notebook."
   ]
  },
  {
   "cell_type": "markdown",
   "id": "85117d74",
   "metadata": {},
   "source": [
    "#### For Windows <a id='the_windows'><a/>"
   ]
  },
  {
   "cell_type": "markdown",
   "id": "0c6f94b8",
   "metadata": {},
   "source": [
    "Steps to follow to run jupyter on windows\n",
    "\n",
    "##### Steps\n",
    "* Install latest python on pc by downloading **.exe** file(download the installer) from https://www.python.org/downloads/windows/ acording the 32 or 64 bit processor of your machine.\n",
    "* Start the downloaded installer and follow the steps and don't forget to check the checkbox to add python to PATH.\n",
    "* After installation open CMD to check if you have python by running **python.exe** command there then use PIP command to install the jupyter package.\n",
    "* Before you use pip, upgrading it is always a better so first we upgrade it using **python.exe -m pip install --upgrade pip**\n",
    "* Then we just run **pip install jupyter**"
   ]
  },
  {
   "cell_type": "markdown",
   "id": "026f3ad3",
   "metadata": {},
   "source": [
    "#### For masOS <a id='the_mac'><a/>"
   ]
  },
  {
   "cell_type": "markdown",
   "id": "25a904d1",
   "metadata": {},
   "source": [
    "For macOS we usually have python preinstalled so to check whether your mac has python or not just go to the terminal and follow\n",
    "\n",
    "##### Steps\n",
    "Check if you have python already\n",
    "* Run command **python --version** \n",
    "\n",
    "If this shows the version you want then python is there and you just need to install Jupyter package using pip. \n",
    "\n",
    "* So before you use pip we upgrade it using **python.exe -m pip install --upgrade pip**\n",
    "\n",
    "* Then we just run **pip install jupyter**\n",
    "    \n",
    "If not then\n",
    "* Go to https://www.python.org/downloads/macos/\n",
    "* Download the **.pkg** for the latest version or the version you want then run it and follow the installation wizard and then follow the steps above to install jupyter."
   ]
  },
  {
   "cell_type": "markdown",
   "id": "3f764720",
   "metadata": {},
   "source": [
    "## Starting Jupyter <a id='the_jupyter'><a/>"
   ]
  },
  {
   "cell_type": "markdown",
   "id": "7492041c",
   "metadata": {},
   "source": [
    "* Jupyter Notebook is a web page where you can code and execute. This is very useful if you are a researcher and you want to showcase your results along with the code which can be executed right there to see things happening. Jupyter Notebooks are not used for developing applications. If you have installed python and jupyter from the instructions in the previous section then you can open **cmd** or **terminal** in your system and go to the location where you want the .ipynb file(the file that contains the data you put in your notebook) to be created. Type **jupyter notebook** and press enter. A set of commands will run(see pic below) and a browser will open with the home page of jupyter where you will be able to see the folders and file of the location from where you ran this command in your cmd or terminal."
   ]
  },
  {
   "cell_type": "markdown",
   "id": "80b17a94",
   "metadata": {},
   "source": [
    "<div>\n",
    "  <img src=\"files\\image.png\" width=\"800\"/>\n",
    "</div>"
   ]
  },
  {
   "cell_type": "markdown",
   "id": "8fbc7c64",
   "metadata": {},
   "source": [
    "* It will run a web server at **http://< localhost >:8080** and show the foler structure as you see in your system. You have to keep that server running to use jupyter and not close this. On the browser you will see a page where you can create your folders,Text files, .ipynb files or start a power shell Terminal."
   ]
  },
  {
   "cell_type": "markdown",
   "id": "c4b075b9",
   "metadata": {},
   "source": [
    "## Creating a Notebook <a id='the_notebook'><a/>"
   ]
  },
  {
   "cell_type": "markdown",
   "id": "d4bd2a57",
   "metadata": {},
   "source": [
    "* To create a notebook click on New and select python version of the notebook from the available options under the Notebook: section as seen below."
   ]
  },
  {
   "cell_type": "markdown",
   "id": "77c7eef0",
   "metadata": {},
   "source": [
    "<div>\n",
    "  <img src=\"files\\notebook.png\" width=\"1000\"/>\n",
    "</div>"
   ]
  },
  {
   "cell_type": "markdown",
   "id": "bb95d1b7",
   "metadata": {},
   "source": [
    "* Jupyter will create an .ipynb file, a folder with name **.ipynb_checkpoints** that contains some metadata information and start a **kernal** to provide with an environment to execute python scripts. By default this environment will run python but you can set up many other types of kernals which will be able to run other languages. If this is your first time using jupyter notebook then I suggest you to take a quick **User Interface Tour** from the help menu. It will pop up message boxes through which you can navigate to next or previous with your arrow keys. Try that or else continue with this tutorial."
   ]
  },
  {
   "cell_type": "markdown",
   "id": "376b6d8c",
   "metadata": {},
   "source": [
    "## Working With Jupyter Nootebook <a id='the_working_jupyter'><a/>"
   ]
  },
  {
   "cell_type": "markdown",
   "id": "aa93f12b",
   "metadata": {},
   "source": [
    "* Make sure to go through all the shortcuts which will help you to work with jupyter conveniently like *running a cell(ctrl+enter),adding a cell below(B) or above(A),deleting a cell(X), making it a markdown cell(M), changing it back to code cell(Y) etc*. For all these shortcuts except for running a cell you have to come out of a cell and turn the cell blue instead of green(see the figure below)\n",
    "* To find out more shortcuts just press **'H'** when the focus is out of a cell."
   ]
  },
  {
   "cell_type": "markdown",
   "id": "38edbc4a",
   "metadata": {},
   "source": [
    "<div>\n",
    "  Focus out Of the cell:\n",
    "  <img src=\"files\\image-2.png\" width=\"400\"/>\n",
    "</div>\n",
    "</br>\n",
    "<div>\n",
    "  Focus inside the cell\n",
    "  <img src=\"files\\image-3.png\" width=\"400\"/>\n",
    "</div>"
   ]
  },
  {
   "cell_type": "markdown",
   "id": "4cac4cef",
   "metadata": {},
   "source": [
    "#### Creating markdown cells:\n",
    "\n",
    "There are 2 ways to convert into a markdown cell. \n",
    "* First is to choose from the drop down in the tools bar above and select markdown instead of code.\n",
    "* The other is to de-select a cell by going out of it so that it is blue as shown above and then press M key."
   ]
  },
  {
   "cell_type": "markdown",
   "id": "3abda60f",
   "metadata": {},
   "source": [
    "#### Beautifying Text\n",
    "\n",
    "* You can use various features to beautify your text like **bold** by placing your text between ** and ** or *itlaic* by placing between single * text * \n",
    "* You can create heading by placing '###' before your text the less # you put the bigger is the heading.\n",
    "* You can also use '*' or '1.' ,'2.' ,'3.' as your bullet points in a markdown."
   ]
  },
  {
   "cell_type": "markdown",
   "id": "078dbe30",
   "metadata": {},
   "source": [
    "#### Adding images to a cell\n",
    "\n",
    "There are 3 ways\n",
    "\n",
    "* Simply copy any image and paste it in the markdown cell will actually import it and when you run it, it will show.\n",
    "* A way is to import the image using insert option in edit menu.\n",
    "* Or you can use Python code to import it in a code cell. (as seen below)\n",
    "* Or you can simply use HTML tags to insert images in markdown cells also.\n",
    "\n",
    "        <div>\n",
    "        <img src=\"attachment:star_image.jpg\" width=\"500\"/>\n",
    "        </div>"
   ]
  },
  {
   "cell_type": "code",
   "execution_count": 1,
   "id": "3e149c0a",
   "metadata": {},
   "outputs": [
    {
     "data": {
      "text/html": [
       "<img src=\"files\\star_image.jpg\" width=\"200\" height=\"200\"/>"
      ],
      "text/plain": [
       "<IPython.core.display.Image object>"
      ]
     },
     "execution_count": 1,
     "metadata": {},
     "output_type": "execute_result"
    }
   ],
   "source": [
    "from IPython.display import Image\n",
    "  \n",
    "# get the image\n",
    "Image(url=\"files\\star_image.jpg\", width=200, height=200)"
   ]
  },
  {
   "cell_type": "markdown",
   "id": "543188cb",
   "metadata": {},
   "source": [
    "## Creating and manipulating your own data using Numpy <a id='the_numpy'><a/>"
   ]
  },
  {
   "cell_type": "markdown",
   "id": "3dd8e81e",
   "metadata": {},
   "source": [
    "We normaly deal with a lot of number in regression models or neural networks so numpy makes calculations very fast and easy. For example if you want to store and do calculations with a million numbers then simple loops will take a long time. So we use matrices and numpy has introduces many features to multiply, divide, add, subtract or apply any function to all the numbers in a matrix easily and in constant time"
   ]
  },
  {
   "cell_type": "markdown",
   "id": "8ef6cded",
   "metadata": {},
   "source": [
    "You can use **arrange** method of numpy to give input as a number and it will return a numpy array from 0 to that number\n",
    "* m = np.arange(10)\n",
    "      array([0, 1, 2, 3, 4, 5, 6, 7, 8, 9])\n",
    "\n",
    "You can then change the shape of an array from a 1-D representation to a n-D representation by using **reshape** method and pass the desired shape, based on the input array lenght numpy will try to change the shape if it possible otherwise throw an error.\n",
    "* np.arange(10).reshape((5,2))\n",
    "      [[0 1]\n",
    "       [2 3]\n",
    "       [4 5]\n",
    "       [6 7]\n",
    "       [8 9]]\n",
    "\n",
    "Producing random data is another thing that is usefull when you are estimating your parameters in a regression algorithm so you can use random class functions to produce random array or matrices based on some distributions or just range."
   ]
  },
  {
   "cell_type": "code",
   "execution_count": 27,
   "id": "f49f6e50",
   "metadata": {},
   "outputs": [
    {
     "name": "stdout",
     "output_type": "stream",
     "text": [
      "[0 1 2 3 4 5 6 7 8 9]\n",
      "\n",
      "[[0 1]\n",
      " [2 3]\n",
      " [4 5]\n",
      " [6 7]\n",
      " [8 9]]\n",
      "\n",
      "[[ 0.81933116 -0.72161659]\n",
      " [ 0.94064411 -0.94756655]\n",
      " [ 0.3803724  -0.16622373]\n",
      " [ 0.37781767 -0.51086709]\n",
      " [ 0.97030496 -1.03357295]]\n"
     ]
    }
   ],
   "source": [
    "import numpy as np\n",
    "\n",
    "m = np.arange(10)\n",
    "print(m,end=\"\\n\\n\")\n",
    "\n",
    "m = np.arange(10).reshape((5,2))\n",
    "print(m,end=\"\\n\\n\")\n",
    "\n",
    "n = np.random.normal(loc=0.0, scale=1.0, size=10)\n",
    "n=n.reshape((5,2))\n",
    "print(n)"
   ]
  },
  {
   "cell_type": "markdown",
   "id": "196c5ace",
   "metadata": {},
   "source": [
    "#### Multiplying two matrices with each other through numpy efficiently"
   ]
  },
  {
   "cell_type": "markdown",
   "id": "6b952741",
   "metadata": {},
   "source": [
    "<div>\n",
    "<img src=\"files\\multiply.png\" width=\"500\"/>\n",
    "</div>"
   ]
  },
  {
   "cell_type": "markdown",
   "id": "c0b66b31",
   "metadata": {},
   "source": [
    "Suppose i is number of rows and j is the number of columns in matrices A and B. Where earlier we required for/while loops to iterate through our data cell by cell and then multiply all the i'th row elements in matrix A with the j'th column elements in matrix B and add the results to get cell ij of matrix c as shown above.\n",
    "\n",
    "The Rule is that the number of columns in A should be equal to number of rows in B\n",
    "\n",
    "* You can use **dot** function of numpy to multiply two matrices"
   ]
  },
  {
   "cell_type": "code",
   "execution_count": 28,
   "id": "5e0e24a8",
   "metadata": {},
   "outputs": [
    {
     "name": "stdout",
     "output_type": "stream",
     "text": [
      "[[-1.63543102  1.78495814 -3.49220554  3.48028796 -3.01111549]\n",
      " [ 0.77316796 -0.97099887  0.47756699 -0.87653786  1.67919466]\n",
      " [ 0.13594159 -0.24784336 -0.62777734  0.31221117  0.45031429]\n",
      " [-1.10234566  1.39957209 -0.54089667  1.15800206 -2.42461638]\n",
      " [ 1.62543807 -2.04297396  0.98891149 -1.83287203  3.53347228]]\n"
     ]
    }
   ],
   "source": [
    "a=n = np.random.normal(loc=0.0, scale=1.0, size=10)\n",
    "a=a.reshape((5,2))\n",
    "\n",
    "b=n = np.random.normal(loc=0.0, scale=1.0, size=10)\n",
    "b=b.reshape((5,2))\n",
    "c=a.dot(b.T)\n",
    "print(c)"
   ]
  },
  {
   "cell_type": "markdown",
   "id": "eac02f93",
   "metadata": {},
   "source": [
    "##### Transpose"
   ]
  },
  {
   "cell_type": "markdown",
   "id": "9971c7b8",
   "metadata": {},
   "source": [
    "<div>\n",
    "<img src=\"files\\transpose.png\" width=\"500\"/>\n",
    "</div>"
   ]
  },
  {
   "cell_type": "markdown",
   "id": "0a5a4ca8",
   "metadata": {},
   "source": [
    "We have another matrix operation where we can find the transpose of a matrix by move all the rows as the columns of the resulting matrix. So if a matrix A is of the shape nXm where n is the number of rows and m is the number of columns then **a.T** will be of the shape mXn."
   ]
  },
  {
   "cell_type": "code",
   "execution_count": 29,
   "id": "584e4d94",
   "metadata": {},
   "outputs": [
    {
     "name": "stdout",
     "output_type": "stream",
     "text": [
      "[[-1.63543102  0.77316796  0.13594159 -1.10234566  1.62543807]\n",
      " [ 1.78495814 -0.97099887 -0.24784336  1.39957209 -2.04297396]\n",
      " [-3.49220554  0.47756699 -0.62777734 -0.54089667  0.98891149]\n",
      " [ 3.48028796 -0.87653786  0.31221117  1.15800206 -1.83287203]\n",
      " [-3.01111549  1.67919466  0.45031429 -2.42461638  3.53347228]]\n"
     ]
    }
   ],
   "source": [
    "print(c.T)"
   ]
  },
  {
   "cell_type": "markdown",
   "id": "8540f984",
   "metadata": {},
   "source": [
    "When you add/subtract or perform any function with a scaler to a numpy matrix then it transforms the scaler value into a matrix of same shape and performs the operation"
   ]
  },
  {
   "cell_type": "code",
   "execution_count": 30,
   "id": "9b2bdc46",
   "metadata": {},
   "outputs": [
    {
     "name": "stdout",
     "output_type": "stream",
     "text": [
      "a = \n",
      " [[ 0.56542683 -0.5256349 ]\n",
      " [-0.28748949  0.14849957]\n",
      " [ 0.13415507 -0.0460173 ]\n",
      " [ 1.59845521  1.47730113]\n",
      " [ 0.42622772  0.39424948]]\n",
      "\n",
      "a*100 = \n",
      " [[ 56.54268324 -52.56349042]\n",
      " [-28.74894859  14.8499573 ]\n",
      " [ 13.41550731  -4.60172985]\n",
      " [159.84552081 147.73011265]\n",
      " [ 42.62277161  39.42494835]]\n",
      "\n",
      "a%10 = \n",
      " [[0.56542683 9.4743651 ]\n",
      " [9.71251051 0.14849957]\n",
      " [0.13415507 9.9539827 ]\n",
      " [1.59845521 1.47730113]\n",
      " [0.42622772 0.39424948]]\n"
     ]
    }
   ],
   "source": [
    "a=n = np.random.normal(loc=0.0, scale=1.0, size=10)\n",
    "a=a.reshape((5,2))\n",
    "print(\"a = \\n\",a,end=\"\\n\\n\")\n",
    "#Now we multiply 100 to the mtrix a\n",
    "print(\"a*100 = \\n\",a*100,end=\"\\n\\n\")\n",
    "\n",
    "#Now we find the modulus of a with 10\n",
    "print(\"a%10 = \\n\",a%10)"
   ]
  },
  {
   "cell_type": "markdown",
   "id": "0b76dc19",
   "metadata": {},
   "source": []
  },
  {
   "cell_type": "markdown",
   "id": "e0c7b22d",
   "metadata": {},
   "source": [
    "## Getting our hands dirty with pandas <a id='the_pandas'><a/>"
   ]
  },
  {
   "cell_type": "markdown",
   "id": "1b02d2a8",
   "metadata": {},
   "source": [
    "#### Importing data to a DataFrame    \n",
    "\n",
    "* This is how we import the data from a csv to a pandas DataFrame. We can use pandas function **read_csv** to get the data from a csv to a pandas DataFrame for manipulation and visualisation\n",
    "* We can also create DataFrame from a dictionary if we pass the dictionary to the **to_DataFrame()** function of pandas"
   ]
  },
  {
   "cell_type": "code",
   "execution_count": 2,
   "id": "ffce33dd",
   "metadata": {
    "scrolled": true
   },
   "outputs": [
    {
     "data": {
      "text/html": [
       "<div>\n",
       "<style scoped>\n",
       "    .dataframe tbody tr th:only-of-type {\n",
       "        vertical-align: middle;\n",
       "    }\n",
       "\n",
       "    .dataframe tbody tr th {\n",
       "        vertical-align: top;\n",
       "    }\n",
       "\n",
       "    .dataframe thead th {\n",
       "        text-align: right;\n",
       "    }\n",
       "</style>\n",
       "<table border=\"1\" class=\"dataframe\">\n",
       "  <thead>\n",
       "    <tr style=\"text-align: right;\">\n",
       "      <th></th>\n",
       "      <th>book_id</th>\n",
       "      <th>genre</th>\n",
       "      <th>title</th>\n",
       "      <th>author</th>\n",
       "      <th>purchase_price</th>\n",
       "      <th>purchase_date</th>\n",
       "    </tr>\n",
       "  </thead>\n",
       "  <tbody>\n",
       "    <tr>\n",
       "      <th>0</th>\n",
       "      <td>234.0</td>\n",
       "      <td>Fantasy</td>\n",
       "      <td>The Hunger Games</td>\n",
       "      <td>Suzanne Collins</td>\n",
       "      <td>5.09</td>\n",
       "      <td>13/10/2022</td>\n",
       "    </tr>\n",
       "    <tr>\n",
       "      <th>1</th>\n",
       "      <td>235.0</td>\n",
       "      <td>Magic</td>\n",
       "      <td>Harry Potter and the Order of the Phoenix</td>\n",
       "      <td>J.K. Rowling</td>\n",
       "      <td>7.38</td>\n",
       "      <td>13/10/2022</td>\n",
       "    </tr>\n",
       "    <tr>\n",
       "      <th>2</th>\n",
       "      <td>236.0</td>\n",
       "      <td>Vampires</td>\n",
       "      <td>Twilight</td>\n",
       "      <td>Stephenie Meyer</td>\n",
       "      <td>2.10</td>\n",
       "      <td>13/10/2022</td>\n",
       "    </tr>\n",
       "    <tr>\n",
       "      <th>3</th>\n",
       "      <td>237.0</td>\n",
       "      <td>Historical</td>\n",
       "      <td>The Book Thief</td>\n",
       "      <td>Markus Zusak (Goodreads Author)</td>\n",
       "      <td>3.80</td>\n",
       "      <td>13/10/2022</td>\n",
       "    </tr>\n",
       "    <tr>\n",
       "      <th>4</th>\n",
       "      <td>238.0</td>\n",
       "      <td>Fantasy</td>\n",
       "      <td>Animal Farm</td>\n",
       "      <td>George Orwell</td>\n",
       "      <td>4.42</td>\n",
       "      <td>13/10/2022</td>\n",
       "    </tr>\n",
       "  </tbody>\n",
       "</table>\n",
       "</div>"
      ],
      "text/plain": [
       "   book_id        genre                                      title  \\\n",
       "0    234.0      Fantasy                           The Hunger Games   \n",
       "1    235.0        Magic  Harry Potter and the Order of the Phoenix   \n",
       "2    236.0     Vampires                                   Twilight   \n",
       "3    237.0   Historical                             The Book Thief   \n",
       "4    238.0      Fantasy                                Animal Farm   \n",
       "\n",
       "                            author  purchase_price purchase_date  \n",
       "0                  Suzanne Collins            5.09    13/10/2022  \n",
       "1                     J.K. Rowling            7.38    13/10/2022  \n",
       "2                  Stephenie Meyer            2.10    13/10/2022  \n",
       "3  Markus Zusak (Goodreads Author)            3.80    13/10/2022  \n",
       "4                    George Orwell            4.42    13/10/2022  "
      ]
     },
     "execution_count": 2,
     "metadata": {},
     "output_type": "execute_result"
    }
   ],
   "source": [
    "import pandas as pd\n",
    "\n",
    "our_first_data = pd.read_csv(\"files/book_info.csv\")\n",
    "our_first_data.head()"
   ]
  },
  {
   "cell_type": "code",
   "execution_count": 32,
   "id": "15a1d612",
   "metadata": {
    "scrolled": true
   },
   "outputs": [
    {
     "data": {
      "text/html": [
       "<div>\n",
       "<style scoped>\n",
       "    .dataframe tbody tr th:only-of-type {\n",
       "        vertical-align: middle;\n",
       "    }\n",
       "\n",
       "    .dataframe tbody tr th {\n",
       "        vertical-align: top;\n",
       "    }\n",
       "\n",
       "    .dataframe thead th {\n",
       "        text-align: right;\n",
       "    }\n",
       "</style>\n",
       "<table border=\"1\" class=\"dataframe\">\n",
       "  <thead>\n",
       "    <tr style=\"text-align: right;\">\n",
       "      <th></th>\n",
       "      <th>even</th>\n",
       "      <th>odd</th>\n",
       "    </tr>\n",
       "  </thead>\n",
       "  <tbody>\n",
       "    <tr>\n",
       "      <th>0</th>\n",
       "      <td>2</td>\n",
       "      <td>1</td>\n",
       "    </tr>\n",
       "    <tr>\n",
       "      <th>1</th>\n",
       "      <td>4</td>\n",
       "      <td>3</td>\n",
       "    </tr>\n",
       "    <tr>\n",
       "      <th>2</th>\n",
       "      <td>6</td>\n",
       "      <td>5</td>\n",
       "    </tr>\n",
       "    <tr>\n",
       "      <th>3</th>\n",
       "      <td>8</td>\n",
       "      <td>7</td>\n",
       "    </tr>\n",
       "    <tr>\n",
       "      <th>4</th>\n",
       "      <td>10</td>\n",
       "      <td>9</td>\n",
       "    </tr>\n",
       "    <tr>\n",
       "      <th>5</th>\n",
       "      <td>12</td>\n",
       "      <td>11</td>\n",
       "    </tr>\n",
       "  </tbody>\n",
       "</table>\n",
       "</div>"
      ],
      "text/plain": [
       "   even  odd\n",
       "0     2    1\n",
       "1     4    3\n",
       "2     6    5\n",
       "3     8    7\n",
       "4    10    9\n",
       "5    12   11"
      ]
     },
     "execution_count": 32,
     "metadata": {},
     "output_type": "execute_result"
    }
   ],
   "source": [
    "d = {'even':[2,4,6,8,10,12],'odd':[1,3,5,7,9,11]}\n",
    "e_o = pd.DataFrame(d)\n",
    "e_o"
   ]
  },
  {
   "cell_type": "markdown",
   "id": "d2995060",
   "metadata": {},
   "source": [
    "#### Droping duplicate rows based on some columns in a DataFrame\n",
    "\n",
    "* In **drop_duplicates()** function of pandas based on the passed list of columns in 'subset' attribute,as seen below this function will drop all the rows where 'title' and 'purchase_price' pairs are having same value.\n",
    "* The inplace attribute makes changes in original DataFrame if it is set to True otherwise it returns the duplicate DataFrame with droped rows and doesn't touch the original.\n",
    "* The ignore_index attribute resets the index and starts from 0 after droping some rows."
   ]
  },
  {
   "cell_type": "code",
   "execution_count": 33,
   "id": "864827a6",
   "metadata": {},
   "outputs": [
    {
     "data": {
      "text/html": [
       "<div>\n",
       "<style scoped>\n",
       "    .dataframe tbody tr th:only-of-type {\n",
       "        vertical-align: middle;\n",
       "    }\n",
       "\n",
       "    .dataframe tbody tr th {\n",
       "        vertical-align: top;\n",
       "    }\n",
       "\n",
       "    .dataframe thead th {\n",
       "        text-align: right;\n",
       "    }\n",
       "</style>\n",
       "<table border=\"1\" class=\"dataframe\">\n",
       "  <thead>\n",
       "    <tr style=\"text-align: right;\">\n",
       "      <th></th>\n",
       "      <th>book_id</th>\n",
       "      <th>genre</th>\n",
       "      <th>title</th>\n",
       "      <th>author</th>\n",
       "      <th>purchase_price</th>\n",
       "      <th>purchase_date</th>\n",
       "    </tr>\n",
       "  </thead>\n",
       "  <tbody>\n",
       "    <tr>\n",
       "      <th>0</th>\n",
       "      <td>234.0</td>\n",
       "      <td>Fantasy</td>\n",
       "      <td>The Hunger Games</td>\n",
       "      <td>Suzanne Collins</td>\n",
       "      <td>5.09</td>\n",
       "      <td>13/10/2022</td>\n",
       "    </tr>\n",
       "    <tr>\n",
       "      <th>1</th>\n",
       "      <td>235.0</td>\n",
       "      <td>Magic</td>\n",
       "      <td>Harry Potter and the Order of the Phoenix</td>\n",
       "      <td>J.K. Rowling</td>\n",
       "      <td>7.38</td>\n",
       "      <td>13/10/2022</td>\n",
       "    </tr>\n",
       "    <tr>\n",
       "      <th>2</th>\n",
       "      <td>236.0</td>\n",
       "      <td>Vampires</td>\n",
       "      <td>Twilight</td>\n",
       "      <td>Stephenie Meyer</td>\n",
       "      <td>2.10</td>\n",
       "      <td>13/10/2022</td>\n",
       "    </tr>\n",
       "    <tr>\n",
       "      <th>3</th>\n",
       "      <td>237.0</td>\n",
       "      <td>Historical</td>\n",
       "      <td>The Book Thief</td>\n",
       "      <td>Markus Zusak (Goodreads Author)</td>\n",
       "      <td>3.80</td>\n",
       "      <td>13/10/2022</td>\n",
       "    </tr>\n",
       "    <tr>\n",
       "      <th>4</th>\n",
       "      <td>238.0</td>\n",
       "      <td>Fantasy</td>\n",
       "      <td>Animal Farm</td>\n",
       "      <td>George Orwell</td>\n",
       "      <td>4.42</td>\n",
       "      <td>13/10/2022</td>\n",
       "    </tr>\n",
       "    <tr>\n",
       "      <th>...</th>\n",
       "      <td>...</td>\n",
       "      <td>...</td>\n",
       "      <td>...</td>\n",
       "      <td>...</td>\n",
       "      <td>...</td>\n",
       "      <td>...</td>\n",
       "    </tr>\n",
       "    <tr>\n",
       "      <th>380</th>\n",
       "      <td>614.0</td>\n",
       "      <td>Fiction</td>\n",
       "      <td>The 5th Wave</td>\n",
       "      <td>Rick Yancey</td>\n",
       "      <td>1.64</td>\n",
       "      <td>10/08/2023</td>\n",
       "    </tr>\n",
       "    <tr>\n",
       "      <th>381</th>\n",
       "      <td>615.0</td>\n",
       "      <td>Paranormal</td>\n",
       "      <td>The Iron King</td>\n",
       "      <td>Julie Kagawa (Goodreads Author)</td>\n",
       "      <td>3.81</td>\n",
       "      <td>10/08/2023</td>\n",
       "    </tr>\n",
       "    <tr>\n",
       "      <th>382</th>\n",
       "      <td>616.0</td>\n",
       "      <td>Novels</td>\n",
       "      <td>Quantum Roots II: Worm Holes</td>\n",
       "      <td>Kyle Keyes</td>\n",
       "      <td>14.36</td>\n",
       "      <td>10/08/2023</td>\n",
       "    </tr>\n",
       "    <tr>\n",
       "      <th>383</th>\n",
       "      <td>617.0</td>\n",
       "      <td>Romance</td>\n",
       "      <td>Aristotle and Dante Discover the Secrets of th...</td>\n",
       "      <td>Benjamin Alire Sáenz (Goodreads Author)</td>\n",
       "      <td>19.17</td>\n",
       "      <td>10/08/2023</td>\n",
       "    </tr>\n",
       "    <tr>\n",
       "      <th>384</th>\n",
       "      <td>NaN</td>\n",
       "      <td>NaN</td>\n",
       "      <td>NaN</td>\n",
       "      <td>NaN</td>\n",
       "      <td>5.09</td>\n",
       "      <td>13/10/2022</td>\n",
       "    </tr>\n",
       "  </tbody>\n",
       "</table>\n",
       "<p>385 rows × 6 columns</p>\n",
       "</div>"
      ],
      "text/plain": [
       "     book_id        genre                                              title  \\\n",
       "0      234.0      Fantasy                                   The Hunger Games   \n",
       "1      235.0        Magic          Harry Potter and the Order of the Phoenix   \n",
       "2      236.0     Vampires                                           Twilight   \n",
       "3      237.0   Historical                                     The Book Thief   \n",
       "4      238.0      Fantasy                                        Animal Farm   \n",
       "..       ...          ...                                                ...   \n",
       "380    614.0      Fiction                                       The 5th Wave   \n",
       "381    615.0   Paranormal                                      The Iron King   \n",
       "382    616.0       Novels                       Quantum Roots II: Worm Holes   \n",
       "383    617.0      Romance  Aristotle and Dante Discover the Secrets of th...   \n",
       "384      NaN          NaN                                                NaN   \n",
       "\n",
       "                                      author  purchase_price purchase_date  \n",
       "0                            Suzanne Collins            5.09    13/10/2022  \n",
       "1                               J.K. Rowling            7.38    13/10/2022  \n",
       "2                            Stephenie Meyer            2.10    13/10/2022  \n",
       "3            Markus Zusak (Goodreads Author)            3.80    13/10/2022  \n",
       "4                              George Orwell            4.42    13/10/2022  \n",
       "..                                       ...             ...           ...  \n",
       "380                              Rick Yancey            1.64    10/08/2023  \n",
       "381          Julie Kagawa (Goodreads Author)            3.81    10/08/2023  \n",
       "382                               Kyle Keyes           14.36    10/08/2023  \n",
       "383  Benjamin Alire Sáenz (Goodreads Author)           19.17    10/08/2023  \n",
       "384                                      NaN            5.09    13/10/2022  \n",
       "\n",
       "[385 rows x 6 columns]"
      ]
     },
     "execution_count": 33,
     "metadata": {},
     "output_type": "execute_result"
    }
   ],
   "source": [
    "our_first_data.drop_duplicates(subset=[\"title\",\"genre\"],inplace=True,ignore_index=True)\n",
    "our_first_data"
   ]
  },
  {
   "cell_type": "markdown",
   "id": "4991df07",
   "metadata": {},
   "source": [
    "#### Slicing data in a dataframe column-wise and row-wise\n",
    "\n",
    "* We can Slice our data based on the columns or rows we need\n",
    "* We use **loc** function if we want to filter with column names and **iloc** if we want to use indexes.\n",
    "* Both the functions take 2 arguments first the rows slice and then the column slice\n",
    "* Below you can see the slice which is done column wise and row wise respectively"
   ]
  },
  {
   "cell_type": "code",
   "execution_count": 34,
   "id": "4cca62d8",
   "metadata": {},
   "outputs": [
    {
     "data": {
      "text/html": [
       "<div>\n",
       "<style scoped>\n",
       "    .dataframe tbody tr th:only-of-type {\n",
       "        vertical-align: middle;\n",
       "    }\n",
       "\n",
       "    .dataframe tbody tr th {\n",
       "        vertical-align: top;\n",
       "    }\n",
       "\n",
       "    .dataframe thead th {\n",
       "        text-align: right;\n",
       "    }\n",
       "</style>\n",
       "<table border=\"1\" class=\"dataframe\">\n",
       "  <thead>\n",
       "    <tr style=\"text-align: right;\">\n",
       "      <th></th>\n",
       "      <th>title</th>\n",
       "      <th>genre</th>\n",
       "      <th>author</th>\n",
       "    </tr>\n",
       "  </thead>\n",
       "  <tbody>\n",
       "    <tr>\n",
       "      <th>0</th>\n",
       "      <td>The Hunger Games</td>\n",
       "      <td>Fantasy</td>\n",
       "      <td>Suzanne Collins</td>\n",
       "    </tr>\n",
       "    <tr>\n",
       "      <th>1</th>\n",
       "      <td>Harry Potter and the Order of the Phoenix</td>\n",
       "      <td>Magic</td>\n",
       "      <td>J.K. Rowling</td>\n",
       "    </tr>\n",
       "    <tr>\n",
       "      <th>2</th>\n",
       "      <td>Twilight</td>\n",
       "      <td>Vampires</td>\n",
       "      <td>Stephenie Meyer</td>\n",
       "    </tr>\n",
       "    <tr>\n",
       "      <th>3</th>\n",
       "      <td>The Book Thief</td>\n",
       "      <td>Historical</td>\n",
       "      <td>Markus Zusak (Goodreads Author)</td>\n",
       "    </tr>\n",
       "    <tr>\n",
       "      <th>4</th>\n",
       "      <td>Animal Farm</td>\n",
       "      <td>Fantasy</td>\n",
       "      <td>George Orwell</td>\n",
       "    </tr>\n",
       "    <tr>\n",
       "      <th>5</th>\n",
       "      <td>J.R.R. Tolkien 4-Book Boxed Set: The Hobbit an...</td>\n",
       "      <td>Adventure</td>\n",
       "      <td>J.R.R. Tolkien</td>\n",
       "    </tr>\n",
       "    <tr>\n",
       "      <th>6</th>\n",
       "      <td>Gone with the Wind</td>\n",
       "      <td>Romance</td>\n",
       "      <td>Margaret Mitchell</td>\n",
       "    </tr>\n",
       "  </tbody>\n",
       "</table>\n",
       "</div>"
      ],
      "text/plain": [
       "                                               title        genre  \\\n",
       "0                                   The Hunger Games      Fantasy   \n",
       "1          Harry Potter and the Order of the Phoenix        Magic   \n",
       "2                                           Twilight     Vampires   \n",
       "3                                     The Book Thief   Historical   \n",
       "4                                        Animal Farm      Fantasy   \n",
       "5  J.R.R. Tolkien 4-Book Boxed Set: The Hobbit an...    Adventure   \n",
       "6                                 Gone with the Wind      Romance   \n",
       "\n",
       "                            author  \n",
       "0                  Suzanne Collins  \n",
       "1                     J.K. Rowling  \n",
       "2                  Stephenie Meyer  \n",
       "3  Markus Zusak (Goodreads Author)  \n",
       "4                    George Orwell  \n",
       "5                   J.R.R. Tolkien  \n",
       "6                Margaret Mitchell  "
      ]
     },
     "execution_count": 34,
     "metadata": {},
     "output_type": "execute_result"
    }
   ],
   "source": [
    "# for slicing data for selected columns\n",
    "all_genre = our_first_data.loc[:,[\"title\",\"genre\",\"author\"]]\n",
    "all_genre.head(7)"
   ]
  },
  {
   "cell_type": "code",
   "execution_count": 35,
   "id": "23ba40d8",
   "metadata": {},
   "outputs": [
    {
     "data": {
      "text/html": [
       "<div>\n",
       "<style scoped>\n",
       "    .dataframe tbody tr th:only-of-type {\n",
       "        vertical-align: middle;\n",
       "    }\n",
       "\n",
       "    .dataframe tbody tr th {\n",
       "        vertical-align: top;\n",
       "    }\n",
       "\n",
       "    .dataframe thead th {\n",
       "        text-align: right;\n",
       "    }\n",
       "</style>\n",
       "<table border=\"1\" class=\"dataframe\">\n",
       "  <thead>\n",
       "    <tr style=\"text-align: right;\">\n",
       "      <th></th>\n",
       "      <th>book_id</th>\n",
       "      <th>genre</th>\n",
       "      <th>title</th>\n",
       "      <th>author</th>\n",
       "    </tr>\n",
       "  </thead>\n",
       "  <tbody>\n",
       "    <tr>\n",
       "      <th>0</th>\n",
       "      <td>234.0</td>\n",
       "      <td>Fantasy</td>\n",
       "      <td>The Hunger Games</td>\n",
       "      <td>Suzanne Collins</td>\n",
       "    </tr>\n",
       "    <tr>\n",
       "      <th>1</th>\n",
       "      <td>235.0</td>\n",
       "      <td>Magic</td>\n",
       "      <td>Harry Potter and the Order of the Phoenix</td>\n",
       "      <td>J.K. Rowling</td>\n",
       "    </tr>\n",
       "    <tr>\n",
       "      <th>2</th>\n",
       "      <td>236.0</td>\n",
       "      <td>Vampires</td>\n",
       "      <td>Twilight</td>\n",
       "      <td>Stephenie Meyer</td>\n",
       "    </tr>\n",
       "    <tr>\n",
       "      <th>3</th>\n",
       "      <td>237.0</td>\n",
       "      <td>Historical</td>\n",
       "      <td>The Book Thief</td>\n",
       "      <td>Markus Zusak (Goodreads Author)</td>\n",
       "    </tr>\n",
       "    <tr>\n",
       "      <th>4</th>\n",
       "      <td>238.0</td>\n",
       "      <td>Fantasy</td>\n",
       "      <td>Animal Farm</td>\n",
       "      <td>George Orwell</td>\n",
       "    </tr>\n",
       "    <tr>\n",
       "      <th>5</th>\n",
       "      <td>239.0</td>\n",
       "      <td>Adventure</td>\n",
       "      <td>J.R.R. Tolkien 4-Book Boxed Set: The Hobbit an...</td>\n",
       "      <td>J.R.R. Tolkien</td>\n",
       "    </tr>\n",
       "    <tr>\n",
       "      <th>6</th>\n",
       "      <td>240.0</td>\n",
       "      <td>Romance</td>\n",
       "      <td>Gone with the Wind</td>\n",
       "      <td>Margaret Mitchell</td>\n",
       "    </tr>\n",
       "  </tbody>\n",
       "</table>\n",
       "</div>"
      ],
      "text/plain": [
       "   book_id        genre                                              title  \\\n",
       "0    234.0      Fantasy                                   The Hunger Games   \n",
       "1    235.0        Magic          Harry Potter and the Order of the Phoenix   \n",
       "2    236.0     Vampires                                           Twilight   \n",
       "3    237.0   Historical                                     The Book Thief   \n",
       "4    238.0      Fantasy                                        Animal Farm   \n",
       "5    239.0    Adventure  J.R.R. Tolkien 4-Book Boxed Set: The Hobbit an...   \n",
       "6    240.0      Romance                                 Gone with the Wind   \n",
       "\n",
       "                            author  \n",
       "0                  Suzanne Collins  \n",
       "1                     J.K. Rowling  \n",
       "2                  Stephenie Meyer  \n",
       "3  Markus Zusak (Goodreads Author)  \n",
       "4                    George Orwell  \n",
       "5                   J.R.R. Tolkien  \n",
       "6                Margaret Mitchell  "
      ]
     },
     "execution_count": 35,
     "metadata": {},
     "output_type": "execute_result"
    }
   ],
   "source": [
    "# for slicing data for a range of columns\n",
    "all_genre = our_first_data.loc[:,\"book_id\":\"author\"]\n",
    "all_genre.head(7)"
   ]
  },
  {
   "cell_type": "code",
   "execution_count": 36,
   "id": "b39e90d4",
   "metadata": {},
   "outputs": [
    {
     "data": {
      "text/html": [
       "<div>\n",
       "<style scoped>\n",
       "    .dataframe tbody tr th:only-of-type {\n",
       "        vertical-align: middle;\n",
       "    }\n",
       "\n",
       "    .dataframe tbody tr th {\n",
       "        vertical-align: top;\n",
       "    }\n",
       "\n",
       "    .dataframe thead th {\n",
       "        text-align: right;\n",
       "    }\n",
       "</style>\n",
       "<table border=\"1\" class=\"dataframe\">\n",
       "  <thead>\n",
       "    <tr style=\"text-align: right;\">\n",
       "      <th></th>\n",
       "      <th>book_id</th>\n",
       "      <th>genre</th>\n",
       "      <th>title</th>\n",
       "    </tr>\n",
       "  </thead>\n",
       "  <tbody>\n",
       "    <tr>\n",
       "      <th>0</th>\n",
       "      <td>234.0</td>\n",
       "      <td>Fantasy</td>\n",
       "      <td>The Hunger Games</td>\n",
       "    </tr>\n",
       "    <tr>\n",
       "      <th>1</th>\n",
       "      <td>235.0</td>\n",
       "      <td>Magic</td>\n",
       "      <td>Harry Potter and the Order of the Phoenix</td>\n",
       "    </tr>\n",
       "    <tr>\n",
       "      <th>2</th>\n",
       "      <td>236.0</td>\n",
       "      <td>Vampires</td>\n",
       "      <td>Twilight</td>\n",
       "    </tr>\n",
       "    <tr>\n",
       "      <th>3</th>\n",
       "      <td>237.0</td>\n",
       "      <td>Historical</td>\n",
       "      <td>The Book Thief</td>\n",
       "    </tr>\n",
       "    <tr>\n",
       "      <th>4</th>\n",
       "      <td>238.0</td>\n",
       "      <td>Fantasy</td>\n",
       "      <td>Animal Farm</td>\n",
       "    </tr>\n",
       "    <tr>\n",
       "      <th>...</th>\n",
       "      <td>...</td>\n",
       "      <td>...</td>\n",
       "      <td>...</td>\n",
       "    </tr>\n",
       "    <tr>\n",
       "      <th>380</th>\n",
       "      <td>614.0</td>\n",
       "      <td>Fiction</td>\n",
       "      <td>The 5th Wave</td>\n",
       "    </tr>\n",
       "    <tr>\n",
       "      <th>381</th>\n",
       "      <td>615.0</td>\n",
       "      <td>Paranormal</td>\n",
       "      <td>The Iron King</td>\n",
       "    </tr>\n",
       "    <tr>\n",
       "      <th>382</th>\n",
       "      <td>616.0</td>\n",
       "      <td>Novels</td>\n",
       "      <td>Quantum Roots II: Worm Holes</td>\n",
       "    </tr>\n",
       "    <tr>\n",
       "      <th>383</th>\n",
       "      <td>617.0</td>\n",
       "      <td>Romance</td>\n",
       "      <td>Aristotle and Dante Discover the Secrets of th...</td>\n",
       "    </tr>\n",
       "    <tr>\n",
       "      <th>384</th>\n",
       "      <td>NaN</td>\n",
       "      <td>NaN</td>\n",
       "      <td>NaN</td>\n",
       "    </tr>\n",
       "  </tbody>\n",
       "</table>\n",
       "<p>385 rows × 3 columns</p>\n",
       "</div>"
      ],
      "text/plain": [
       "     book_id        genre                                              title\n",
       "0      234.0      Fantasy                                   The Hunger Games\n",
       "1      235.0        Magic          Harry Potter and the Order of the Phoenix\n",
       "2      236.0     Vampires                                           Twilight\n",
       "3      237.0   Historical                                     The Book Thief\n",
       "4      238.0      Fantasy                                        Animal Farm\n",
       "..       ...          ...                                                ...\n",
       "380    614.0      Fiction                                       The 5th Wave\n",
       "381    615.0   Paranormal                                      The Iron King\n",
       "382    616.0       Novels                       Quantum Roots II: Worm Holes\n",
       "383    617.0      Romance  Aristotle and Dante Discover the Secrets of th...\n",
       "384      NaN          NaN                                                NaN\n",
       "\n",
       "[385 rows x 3 columns]"
      ]
     },
     "execution_count": 36,
     "metadata": {},
     "output_type": "execute_result"
    }
   ],
   "source": [
    "all_genre = our_first_data.iloc[:,0:3]\n",
    "all_genre"
   ]
  },
  {
   "cell_type": "code",
   "execution_count": 37,
   "id": "225cb3b4",
   "metadata": {},
   "outputs": [
    {
     "data": {
      "text/html": [
       "<div>\n",
       "<style scoped>\n",
       "    .dataframe tbody tr th:only-of-type {\n",
       "        vertical-align: middle;\n",
       "    }\n",
       "\n",
       "    .dataframe tbody tr th {\n",
       "        vertical-align: top;\n",
       "    }\n",
       "\n",
       "    .dataframe thead th {\n",
       "        text-align: right;\n",
       "    }\n",
       "</style>\n",
       "<table border=\"1\" class=\"dataframe\">\n",
       "  <thead>\n",
       "    <tr style=\"text-align: right;\">\n",
       "      <th></th>\n",
       "      <th>book_id</th>\n",
       "      <th>genre</th>\n",
       "      <th>title</th>\n",
       "      <th>author</th>\n",
       "      <th>purchase_price</th>\n",
       "      <th>purchase_date</th>\n",
       "    </tr>\n",
       "  </thead>\n",
       "  <tbody>\n",
       "    <tr>\n",
       "      <th>4</th>\n",
       "      <td>238.0</td>\n",
       "      <td>Fantasy</td>\n",
       "      <td>Animal Farm</td>\n",
       "      <td>George Orwell</td>\n",
       "      <td>4.42</td>\n",
       "      <td>13/10/2022</td>\n",
       "    </tr>\n",
       "    <tr>\n",
       "      <th>5</th>\n",
       "      <td>239.0</td>\n",
       "      <td>Adventure</td>\n",
       "      <td>J.R.R. Tolkien 4-Book Boxed Set: The Hobbit an...</td>\n",
       "      <td>J.R.R. Tolkien</td>\n",
       "      <td>21.15</td>\n",
       "      <td>13/10/2022</td>\n",
       "    </tr>\n",
       "    <tr>\n",
       "      <th>6</th>\n",
       "      <td>240.0</td>\n",
       "      <td>Romance</td>\n",
       "      <td>Gone with the Wind</td>\n",
       "      <td>Margaret Mitchell</td>\n",
       "      <td>5.58</td>\n",
       "      <td>13/10/2022</td>\n",
       "    </tr>\n",
       "    <tr>\n",
       "      <th>7</th>\n",
       "      <td>241.0</td>\n",
       "      <td>Fiction</td>\n",
       "      <td>The Giving Tree</td>\n",
       "      <td>Shel Silverstein</td>\n",
       "      <td>4.87</td>\n",
       "      <td>13/10/2022</td>\n",
       "    </tr>\n",
       "    <tr>\n",
       "      <th>8</th>\n",
       "      <td>242.0</td>\n",
       "      <td>Gothic</td>\n",
       "      <td>Wuthering Heights</td>\n",
       "      <td>Emily Brontë</td>\n",
       "      <td>2.73</td>\n",
       "      <td>13/10/2022</td>\n",
       "    </tr>\n",
       "    <tr>\n",
       "      <th>9</th>\n",
       "      <td>243.0</td>\n",
       "      <td>Historical</td>\n",
       "      <td>Memoirs of a Geisha</td>\n",
       "      <td>Arthur Golden</td>\n",
       "      <td>2.76</td>\n",
       "      <td>13/10/2022</td>\n",
       "    </tr>\n",
       "  </tbody>\n",
       "</table>\n",
       "</div>"
      ],
      "text/plain": [
       "   book_id        genre                                              title  \\\n",
       "4    238.0      Fantasy                                        Animal Farm   \n",
       "5    239.0    Adventure  J.R.R. Tolkien 4-Book Boxed Set: The Hobbit an...   \n",
       "6    240.0      Romance                                 Gone with the Wind   \n",
       "7    241.0      Fiction                                    The Giving Tree   \n",
       "8    242.0       Gothic                                  Wuthering Heights   \n",
       "9    243.0   Historical                                Memoirs of a Geisha   \n",
       "\n",
       "              author  purchase_price purchase_date  \n",
       "4      George Orwell            4.42    13/10/2022  \n",
       "5     J.R.R. Tolkien           21.15    13/10/2022  \n",
       "6  Margaret Mitchell            5.58    13/10/2022  \n",
       "7   Shel Silverstein            4.87    13/10/2022  \n",
       "8       Emily Brontë            2.73    13/10/2022  \n",
       "9      Arthur Golden            2.76    13/10/2022  "
      ]
     },
     "execution_count": 37,
     "metadata": {},
     "output_type": "execute_result"
    }
   ],
   "source": [
    "#row wise slicing\n",
    "our_first_data.iloc[4:10,:]"
   ]
  },
  {
   "cell_type": "markdown",
   "id": "c5a74ac0",
   "metadata": {},
   "source": [
    "#### Sorting data in DataFrames\n",
    "\n",
    "* We can sort in ascending or descending and by a column or a lits of columns by using **sort_values** function.\n",
    "* Below we sorted our DataFrame by purchase_price and title in ascending and descending order respectively."
   ]
  },
  {
   "cell_type": "code",
   "execution_count": 38,
   "id": "cdb102c1",
   "metadata": {
    "scrolled": false
   },
   "outputs": [
    {
     "data": {
      "text/html": [
       "<div>\n",
       "<style scoped>\n",
       "    .dataframe tbody tr th:only-of-type {\n",
       "        vertical-align: middle;\n",
       "    }\n",
       "\n",
       "    .dataframe tbody tr th {\n",
       "        vertical-align: top;\n",
       "    }\n",
       "\n",
       "    .dataframe thead th {\n",
       "        text-align: right;\n",
       "    }\n",
       "</style>\n",
       "<table border=\"1\" class=\"dataframe\">\n",
       "  <thead>\n",
       "    <tr style=\"text-align: right;\">\n",
       "      <th></th>\n",
       "      <th>book_id</th>\n",
       "      <th>genre</th>\n",
       "      <th>title</th>\n",
       "      <th>author</th>\n",
       "      <th>purchase_price</th>\n",
       "      <th>purchase_date</th>\n",
       "    </tr>\n",
       "  </thead>\n",
       "  <tbody>\n",
       "    <tr>\n",
       "      <th>185</th>\n",
       "      <td>419.0</td>\n",
       "      <td>Fiction</td>\n",
       "      <td>The Complete Calvin and Hobbes</td>\n",
       "      <td>Bill Watterson</td>\n",
       "      <td>110.67</td>\n",
       "      <td>22/01/2023</td>\n",
       "    </tr>\n",
       "    <tr>\n",
       "      <th>308</th>\n",
       "      <td>542.0</td>\n",
       "      <td>Magic</td>\n",
       "      <td>Harry Potter Series Box Set</td>\n",
       "      <td>J.K. Rowling</td>\n",
       "      <td>77.25</td>\n",
       "      <td>10/08/2023</td>\n",
       "    </tr>\n",
       "    <tr>\n",
       "      <th>116</th>\n",
       "      <td>350.0</td>\n",
       "      <td>Classics</td>\n",
       "      <td>The Lorax</td>\n",
       "      <td>Dr. Seuss</td>\n",
       "      <td>41.26</td>\n",
       "      <td>22/01/2023</td>\n",
       "    </tr>\n",
       "    <tr>\n",
       "      <th>43</th>\n",
       "      <td>277.0</td>\n",
       "      <td>Classics</td>\n",
       "      <td>Dune</td>\n",
       "      <td>Frank Herbert</td>\n",
       "      <td>29.34</td>\n",
       "      <td>13/10/2022</td>\n",
       "    </tr>\n",
       "    <tr>\n",
       "      <th>361</th>\n",
       "      <td>595.0</td>\n",
       "      <td>Romance</td>\n",
       "      <td>The Twilight Collection</td>\n",
       "      <td>Stephenie Meyer</td>\n",
       "      <td>28.05</td>\n",
       "      <td>10/08/2023</td>\n",
       "    </tr>\n",
       "    <tr>\n",
       "      <th>348</th>\n",
       "      <td>582.0</td>\n",
       "      <td>Literature</td>\n",
       "      <td>The Grapes of Wrath</td>\n",
       "      <td>John Steinbeck</td>\n",
       "      <td>27.35</td>\n",
       "      <td>10/08/2023</td>\n",
       "    </tr>\n",
       "    <tr>\n",
       "      <th>251</th>\n",
       "      <td>485.0</td>\n",
       "      <td>High Fantasy</td>\n",
       "      <td>The Way of Kings</td>\n",
       "      <td>Brandon Sanderson (Goodreads Author)</td>\n",
       "      <td>22.74</td>\n",
       "      <td>22/01/2023</td>\n",
       "    </tr>\n",
       "    <tr>\n",
       "      <th>178</th>\n",
       "      <td>412.0</td>\n",
       "      <td>Japanese Literature</td>\n",
       "      <td>The Wind-Up Bird Chronicle</td>\n",
       "      <td>Haruki Murakami</td>\n",
       "      <td>22.25</td>\n",
       "      <td>22/01/2023</td>\n",
       "    </tr>\n",
       "    <tr>\n",
       "      <th>5</th>\n",
       "      <td>239.0</td>\n",
       "      <td>Adventure</td>\n",
       "      <td>J.R.R. Tolkien 4-Book Boxed Set: The Hobbit an...</td>\n",
       "      <td>J.R.R. Tolkien</td>\n",
       "      <td>21.15</td>\n",
       "      <td>13/10/2022</td>\n",
       "    </tr>\n",
       "    <tr>\n",
       "      <th>268</th>\n",
       "      <td>502.0</td>\n",
       "      <td>High Fantasy</td>\n",
       "      <td>The Final Empire</td>\n",
       "      <td>Brandon Sanderson (Goodreads Author)</td>\n",
       "      <td>20.93</td>\n",
       "      <td>22/01/2023</td>\n",
       "    </tr>\n",
       "  </tbody>\n",
       "</table>\n",
       "</div>"
      ],
      "text/plain": [
       "     book_id                 genre  \\\n",
       "185    419.0               Fiction   \n",
       "308    542.0                 Magic   \n",
       "116    350.0              Classics   \n",
       "43     277.0              Classics   \n",
       "361    595.0               Romance   \n",
       "348    582.0            Literature   \n",
       "251    485.0          High Fantasy   \n",
       "178    412.0   Japanese Literature   \n",
       "5      239.0             Adventure   \n",
       "268    502.0          High Fantasy   \n",
       "\n",
       "                                                 title  \\\n",
       "185                     The Complete Calvin and Hobbes   \n",
       "308                        Harry Potter Series Box Set   \n",
       "116                                          The Lorax   \n",
       "43                                                Dune   \n",
       "361                            The Twilight Collection   \n",
       "348                                The Grapes of Wrath   \n",
       "251                                   The Way of Kings   \n",
       "178                         The Wind-Up Bird Chronicle   \n",
       "5    J.R.R. Tolkien 4-Book Boxed Set: The Hobbit an...   \n",
       "268                                   The Final Empire   \n",
       "\n",
       "                                   author  purchase_price purchase_date  \n",
       "185                        Bill Watterson          110.67    22/01/2023  \n",
       "308                          J.K. Rowling           77.25    10/08/2023  \n",
       "116                             Dr. Seuss           41.26    22/01/2023  \n",
       "43                          Frank Herbert           29.34    13/10/2022  \n",
       "361                       Stephenie Meyer           28.05    10/08/2023  \n",
       "348                        John Steinbeck           27.35    10/08/2023  \n",
       "251  Brandon Sanderson (Goodreads Author)           22.74    22/01/2023  \n",
       "178                       Haruki Murakami           22.25    22/01/2023  \n",
       "5                          J.R.R. Tolkien           21.15    13/10/2022  \n",
       "268  Brandon Sanderson (Goodreads Author)           20.93    22/01/2023  "
      ]
     },
     "execution_count": 38,
     "metadata": {},
     "output_type": "execute_result"
    }
   ],
   "source": [
    "#sorting your dataframe\n",
    "our_first_data.sort_values(by=[\"purchase_price\",\"title\"],inplace=True,ascending=[False,True])\n",
    "our_first_data.head(10)"
   ]
  },
  {
   "cell_type": "markdown",
   "id": "47746ec8",
   "metadata": {},
   "source": [
    "#### Filtering data in pandas\n",
    "\n",
    "* We can pass our filter conditions like below and add multiple conditions by using relational operators **|** (or), **&** (and) between two or more conditions\n",
    "* Below we added a filter to all the rows where purchase_price is greater than 5."
   ]
  },
  {
   "cell_type": "code",
   "execution_count": 39,
   "id": "969ef111",
   "metadata": {
    "scrolled": false
   },
   "outputs": [
    {
     "data": {
      "text/html": [
       "<div>\n",
       "<style scoped>\n",
       "    .dataframe tbody tr th:only-of-type {\n",
       "        vertical-align: middle;\n",
       "    }\n",
       "\n",
       "    .dataframe tbody tr th {\n",
       "        vertical-align: top;\n",
       "    }\n",
       "\n",
       "    .dataframe thead th {\n",
       "        text-align: right;\n",
       "    }\n",
       "</style>\n",
       "<table border=\"1\" class=\"dataframe\">\n",
       "  <thead>\n",
       "    <tr style=\"text-align: right;\">\n",
       "      <th></th>\n",
       "      <th>book_id</th>\n",
       "      <th>genre</th>\n",
       "      <th>title</th>\n",
       "      <th>author</th>\n",
       "      <th>purchase_price</th>\n",
       "      <th>purchase_date</th>\n",
       "    </tr>\n",
       "  </thead>\n",
       "  <tbody>\n",
       "    <tr>\n",
       "      <th>185</th>\n",
       "      <td>419.0</td>\n",
       "      <td>Fiction</td>\n",
       "      <td>The Complete Calvin and Hobbes</td>\n",
       "      <td>Bill Watterson</td>\n",
       "      <td>110.67</td>\n",
       "      <td>22/01/2023</td>\n",
       "    </tr>\n",
       "    <tr>\n",
       "      <th>308</th>\n",
       "      <td>542.0</td>\n",
       "      <td>Magic</td>\n",
       "      <td>Harry Potter Series Box Set</td>\n",
       "      <td>J.K. Rowling</td>\n",
       "      <td>77.25</td>\n",
       "      <td>10/08/2023</td>\n",
       "    </tr>\n",
       "    <tr>\n",
       "      <th>116</th>\n",
       "      <td>350.0</td>\n",
       "      <td>Classics</td>\n",
       "      <td>The Lorax</td>\n",
       "      <td>Dr. Seuss</td>\n",
       "      <td>41.26</td>\n",
       "      <td>22/01/2023</td>\n",
       "    </tr>\n",
       "    <tr>\n",
       "      <th>43</th>\n",
       "      <td>277.0</td>\n",
       "      <td>Classics</td>\n",
       "      <td>Dune</td>\n",
       "      <td>Frank Herbert</td>\n",
       "      <td>29.34</td>\n",
       "      <td>13/10/2022</td>\n",
       "    </tr>\n",
       "    <tr>\n",
       "      <th>361</th>\n",
       "      <td>595.0</td>\n",
       "      <td>Romance</td>\n",
       "      <td>The Twilight Collection</td>\n",
       "      <td>Stephenie Meyer</td>\n",
       "      <td>28.05</td>\n",
       "      <td>10/08/2023</td>\n",
       "    </tr>\n",
       "    <tr>\n",
       "      <th>...</th>\n",
       "      <td>...</td>\n",
       "      <td>...</td>\n",
       "      <td>...</td>\n",
       "      <td>...</td>\n",
       "      <td>...</td>\n",
       "      <td>...</td>\n",
       "    </tr>\n",
       "    <tr>\n",
       "      <th>384</th>\n",
       "      <td>NaN</td>\n",
       "      <td>NaN</td>\n",
       "      <td>NaN</td>\n",
       "      <td>NaN</td>\n",
       "      <td>5.09</td>\n",
       "      <td>13/10/2022</td>\n",
       "    </tr>\n",
       "    <tr>\n",
       "      <th>198</th>\n",
       "      <td>432.0</td>\n",
       "      <td>Realistic Fiction</td>\n",
       "      <td>Speak</td>\n",
       "      <td>Laurie Halse Anderson (Goodreads Author)</td>\n",
       "      <td>5.07</td>\n",
       "      <td>22/01/2023</td>\n",
       "    </tr>\n",
       "    <tr>\n",
       "      <th>53</th>\n",
       "      <td>287.0</td>\n",
       "      <td>Young Adult</td>\n",
       "      <td>A Tree Grows in Brooklyn</td>\n",
       "      <td>Betty Smith</td>\n",
       "      <td>5.01</td>\n",
       "      <td>13/10/2022</td>\n",
       "    </tr>\n",
       "    <tr>\n",
       "      <th>132</th>\n",
       "      <td>366.0</td>\n",
       "      <td>Classics</td>\n",
       "      <td>Oh the Places Youll Go!</td>\n",
       "      <td>Dr. Seuss</td>\n",
       "      <td>5.01</td>\n",
       "      <td>22/01/2023</td>\n",
       "    </tr>\n",
       "    <tr>\n",
       "      <th>155</th>\n",
       "      <td>389.0</td>\n",
       "      <td>Fantasy</td>\n",
       "      <td>The Selection</td>\n",
       "      <td>Kiera Cass (Goodreads Author)</td>\n",
       "      <td>5.01</td>\n",
       "      <td>22/01/2023</td>\n",
       "    </tr>\n",
       "  </tbody>\n",
       "</table>\n",
       "<p>157 rows × 6 columns</p>\n",
       "</div>"
      ],
      "text/plain": [
       "     book_id               genre                           title  \\\n",
       "185    419.0             Fiction  The Complete Calvin and Hobbes   \n",
       "308    542.0               Magic     Harry Potter Series Box Set   \n",
       "116    350.0            Classics                       The Lorax   \n",
       "43     277.0            Classics                            Dune   \n",
       "361    595.0             Romance         The Twilight Collection   \n",
       "..       ...                 ...                             ...   \n",
       "384      NaN                 NaN                             NaN   \n",
       "198    432.0   Realistic Fiction                           Speak   \n",
       "53     287.0         Young Adult        A Tree Grows in Brooklyn   \n",
       "132    366.0            Classics         Oh the Places Youll Go!   \n",
       "155    389.0             Fantasy                   The Selection   \n",
       "\n",
       "                                       author  purchase_price purchase_date  \n",
       "185                            Bill Watterson          110.67    22/01/2023  \n",
       "308                              J.K. Rowling           77.25    10/08/2023  \n",
       "116                                 Dr. Seuss           41.26    22/01/2023  \n",
       "43                              Frank Herbert           29.34    13/10/2022  \n",
       "361                           Stephenie Meyer           28.05    10/08/2023  \n",
       "..                                        ...             ...           ...  \n",
       "384                                       NaN            5.09    13/10/2022  \n",
       "198  Laurie Halse Anderson (Goodreads Author)            5.07    22/01/2023  \n",
       "53                                Betty Smith            5.01    13/10/2022  \n",
       "132                                 Dr. Seuss            5.01    22/01/2023  \n",
       "155             Kiera Cass (Goodreads Author)            5.01    22/01/2023  \n",
       "\n",
       "[157 rows x 6 columns]"
      ]
     },
     "execution_count": 39,
     "metadata": {},
     "output_type": "execute_result"
    }
   ],
   "source": [
    "# filtering your dataframe\n",
    "filtered_data = our_first_data[our_first_data[\"purchase_price\"]>5]\n",
    "filtered_data"
   ]
  },
  {
   "cell_type": "markdown",
   "id": "a9da955c",
   "metadata": {},
   "source": [
    "#### Grouping data in DataFrames\n",
    "\n",
    "* We can use **groupby** function to group by a single column or multiple columns to apply agregation functions to the data. In this example we have grouped by genre and then author to find the mean of all the number columns\n",
    "* We tried to group our data using this function by 'genre' and only selected the 'purchase_price' out of it.\n",
    "* Below we grouped our data with multiple columns \"genre\" and \"author\" and aggregated to get the mean price."
   ]
  },
  {
   "cell_type": "code",
   "execution_count": 40,
   "id": "5fed29c7",
   "metadata": {},
   "outputs": [
    {
     "data": {
      "text/html": [
       "<div>\n",
       "<style scoped>\n",
       "    .dataframe tbody tr th:only-of-type {\n",
       "        vertical-align: middle;\n",
       "    }\n",
       "\n",
       "    .dataframe tbody tr th {\n",
       "        vertical-align: top;\n",
       "    }\n",
       "\n",
       "    .dataframe thead th {\n",
       "        text-align: right;\n",
       "    }\n",
       "</style>\n",
       "<table border=\"1\" class=\"dataframe\">\n",
       "  <thead>\n",
       "    <tr style=\"text-align: right;\">\n",
       "      <th></th>\n",
       "      <th>purchase_price</th>\n",
       "    </tr>\n",
       "    <tr>\n",
       "      <th>genre</th>\n",
       "      <th></th>\n",
       "    </tr>\n",
       "  </thead>\n",
       "  <tbody>\n",
       "    <tr>\n",
       "      <th>19th Century</th>\n",
       "      <td>5.510000</td>\n",
       "    </tr>\n",
       "    <tr>\n",
       "      <th>Adventure</th>\n",
       "      <td>11.083333</td>\n",
       "    </tr>\n",
       "    <tr>\n",
       "      <th>Africa</th>\n",
       "      <td>7.190000</td>\n",
       "    </tr>\n",
       "    <tr>\n",
       "      <th>BDSM</th>\n",
       "      <td>6.330000</td>\n",
       "    </tr>\n",
       "    <tr>\n",
       "      <th>Biography</th>\n",
       "      <td>5.560000</td>\n",
       "    </tr>\n",
       "  </tbody>\n",
       "</table>\n",
       "</div>"
      ],
      "text/plain": [
       "               purchase_price\n",
       "genre                        \n",
       " 19th Century        5.510000\n",
       " Adventure          11.083333\n",
       " Africa              7.190000\n",
       " BDSM                6.330000\n",
       " Biography           5.560000"
      ]
     },
     "execution_count": 40,
     "metadata": {},
     "output_type": "execute_result"
    }
   ],
   "source": [
    "# grouping data together in dataframe\n",
    "grouped_data = filtered_data.groupby(\"genre\")[[\"purchase_price\"]]\n",
    "grouped_data.agg(\"mean\").head()"
   ]
  },
  {
   "cell_type": "code",
   "execution_count": 41,
   "id": "4a0cdb1f",
   "metadata": {
    "scrolled": true
   },
   "outputs": [
    {
     "data": {
      "text/html": [
       "<div>\n",
       "<style scoped>\n",
       "    .dataframe tbody tr th:only-of-type {\n",
       "        vertical-align: middle;\n",
       "    }\n",
       "\n",
       "    .dataframe tbody tr th {\n",
       "        vertical-align: top;\n",
       "    }\n",
       "\n",
       "    .dataframe thead tr th {\n",
       "        text-align: left;\n",
       "    }\n",
       "\n",
       "    .dataframe thead tr:last-of-type th {\n",
       "        text-align: right;\n",
       "    }\n",
       "</style>\n",
       "<table border=\"1\" class=\"dataframe\">\n",
       "  <thead>\n",
       "    <tr>\n",
       "      <th></th>\n",
       "      <th></th>\n",
       "      <th>purchase_price</th>\n",
       "    </tr>\n",
       "    <tr>\n",
       "      <th></th>\n",
       "      <th></th>\n",
       "      <th>mean</th>\n",
       "    </tr>\n",
       "    <tr>\n",
       "      <th>genre</th>\n",
       "      <th>author</th>\n",
       "      <th></th>\n",
       "    </tr>\n",
       "  </thead>\n",
       "  <tbody>\n",
       "    <tr>\n",
       "      <th>19th Century</th>\n",
       "      <th>Charles Dickens</th>\n",
       "      <td>5.51</td>\n",
       "    </tr>\n",
       "    <tr>\n",
       "      <th rowspan=\"3\" valign=\"top\">Adventure</th>\n",
       "      <th>Alexandre Dumas</th>\n",
       "      <td>6.13</td>\n",
       "    </tr>\n",
       "    <tr>\n",
       "      <th>Gregory David Roberts</th>\n",
       "      <td>5.97</td>\n",
       "    </tr>\n",
       "    <tr>\n",
       "      <th>J.R.R. Tolkien</th>\n",
       "      <td>21.15</td>\n",
       "    </tr>\n",
       "    <tr>\n",
       "      <th>Africa</th>\n",
       "      <th>Joseph Conrad</th>\n",
       "      <td>7.19</td>\n",
       "    </tr>\n",
       "  </tbody>\n",
       "</table>\n",
       "</div>"
      ],
      "text/plain": [
       "                                    purchase_price\n",
       "                                              mean\n",
       "genre         author                              \n",
       " 19th Century Charles Dickens                 5.51\n",
       " Adventure    Alexandre Dumas                 6.13\n",
       "              Gregory David Roberts           5.97\n",
       "              J.R.R. Tolkien                 21.15\n",
       " Africa       Joseph Conrad                   7.19"
      ]
     },
     "execution_count": 41,
     "metadata": {},
     "output_type": "execute_result"
    }
   ],
   "source": [
    "grouped_data = filtered_data[[\"genre\",\"author\",\"purchase_price\"]].groupby([\"genre\",\"author\"]).agg([\"mean\"])\n",
    "grouped_data.head()"
   ]
  },
  {
   "cell_type": "markdown",
   "id": "26e65ad1",
   "metadata": {},
   "source": [
    "#### fillna() and dropna() functions\n",
    "\n",
    "* Our data usually contains NaN or unwanted values which might create a problem while visualising or analysing data. We usually replace NaN values with mean or median to maintain the consistency of the data throughout and avoid any calculation errors. We can also drop the rows with NaN values which might create a problem to display it graphically."
   ]
  },
  {
   "cell_type": "markdown",
   "id": "33b3c352",
   "metadata": {},
   "source": [
    "## Logistic Regression using pandas and numpy <a id='the_logistic'><a/>"
   ]
  },
  {
   "cell_type": "markdown",
   "id": "0ed635f1",
   "metadata": {},
   "source": [
    "\n",
    "\n",
    "Logistic regression an algorithm where we try to estimate a y(output) for some x(features) by nudging the w(weights) and b(baises) parameters using gradient descent. Let first understand the maths for this and then we will implement the equations in numpy to caluclate the values and plot them using matplotlib. We represent our data in a DataFrame as rows and columns. These rows and columns then can be converted into numpy matrices. The matrices will store the data just like DataFrames but the data will be represented as array of arrays.\n",
    "\n",
    "Let say for some data where we have n rows and m columns. Let the rows be the training examples and columns be all the different features so we have m features and n training examples of those features.For this example we have x and y.These are columns in that data where x are the independant variable and y are the dependant variable. y is dependant on x. Shape of y will be 1Xn as there are n training examples and we have only one values of y for every training example. Similarly there are n features x and m training examples of the these n features so x will be of the order mXn.\n",
    "\n",
    "Our goal is to estimate how much is y dependant on each feature so that we can estimate the value of y if we have all the values of x. The degree by which a feature is affecting y is determined by its weight(w) and bais(b) value.\n",
    "\n",
    "* So for yeach training example our relation b/w x and y will be represented like: **y=w*x+b**\n",
    "\n",
    "#### The concept\n",
    "\n",
    "Logistic Regression's basic concept is manipulating the values of weight(w) and intercept(b) such that the predicted value of y based on them is closest to all the actual y where x is independant variable and y is a dependant variable.\n",
    "\n",
    "###### In Logistic Regression\n",
    "\n",
    "First we estimate the weights and baises for each feature in the matrix x and then we try to find the estimate of y:\n",
    "   * y_predicted = wx +b\n",
    "For each such example we already have the ground truth which will tell us that how much is the estimate of y bigger or smaller than actual y. Now we find the cost which is the error by which we have deviated from the actual y\n",
    "\n",
    "   * cost = 1/m * (y*log (y_predicted) + (1-y)*log (1-y_predicted))\n",
    "\n",
    "Now we need to minimise this cost by finding the dw and db which are the rate and direction by which we should nudge our w and b paramters to get the least cost.\n",
    "   * dw = 1/m*((y_predicted-y)*x)\n",
    "   * db = 1/m*(y_predicted-y)\n",
    "\n",
    "Then we adjust our w and b as:\n",
    "   * w = w + alpha * dw\n",
    "   * b = b + alpha * db\n",
    "\n",
    "By doing this with a learning rate 'alpha' and number of iteration 'iter' we can estimate our w and b and subsequently a y for each x(features)\n",
    "\n",
    "Below we have also used an activation function called sigmoid which we apply on our output values of y that helps us to get the predicted values in the range 0 to 1. It is better in cases where we are only looking to solve a binary classification problem where we want our output to give only 0 or 1 based on the features.\n",
    "\n",
    "Below you will also notice that we have transposed at some places. Explanation is that we want to mutiply 2 matrices and we want to match the rows and columns to multiply the matrices.\n",
    "\n",
    "In the end we will see how the cost is reducing with the number of iteration we run the steps mentioned above to nudge out w's and b's for each feature in x by ploting the cost vs the interations graph."
   ]
  },
  {
   "cell_type": "code",
   "execution_count": 42,
   "id": "bc82bfac",
   "metadata": {},
   "outputs": [
    {
     "data": {
      "text/plain": [
       "((7, 891), (1, 891))"
      ]
     },
     "execution_count": 42,
     "metadata": {},
     "output_type": "execute_result"
    }
   ],
   "source": [
    "import matplotlib.pyplot as plt\n",
    "import pandas as pd\n",
    "import numpy as np\n",
    "%matplotlib inline\n",
    "\n",
    "#getting out data and manipulating it for our need in terms of x and y\n",
    "x_train = pd.read_csv(\"files/train_x.csv\")\n",
    "x = np.array(x_train.iloc[:,1:])\n",
    "\n",
    "y_train = pd.read_csv(\"files/train_y.csv\")\n",
    "y = np.array(y_train.iloc[:,1:])\n",
    "\n",
    "y = y.reshape(1,y.shape[0])\n",
    "x = x.reshape(x.shape[1],x.shape[0])\n",
    "x.shape,y.shape"
   ]
  },
  {
   "cell_type": "code",
   "execution_count": 43,
   "id": "82ec488d",
   "metadata": {},
   "outputs": [
    {
     "data": {
      "image/png": "[encoded data removed]",
      "text/plain": [
       "<Figure size 640x480 with 1 Axes>"
      ]
     },
     "metadata": {},
     "output_type": "display_data"
    }
   ],
   "source": [
    "def apply_sigmoid(y):\n",
    "    return 1/(1+np.exp(-y))\n",
    "\n",
    "def logistic_regression(w,b,x,y,alpha,iterations):\n",
    "    m = x.shape[1]\n",
    "    c_list = []\n",
    "    for i in range(iterations):\n",
    "        y_predicted  = apply_sigmoid(np.dot(w.T,x)+b)\n",
    "        \n",
    "        cost = -(1/m)*np.sum(y*np.log(y_predicted) + (1-y)*np.log(1-y_predicted))\n",
    "\n",
    "        c_list.append(cost)\n",
    "\n",
    "        dw = 1/m*np.dot(y_predicted-y,x.T)\n",
    "        db = 1/m*np.sum(y-y_predicted)\n",
    "        \n",
    "        w = w - alpha*dw.T\n",
    "        b = b - alpha*db\n",
    "        \n",
    "\n",
    "    return w,b,c_list\n",
    "\n",
    "iterations = 1000\n",
    "w,b,c_list = logistic_regression(np.zeros((x.shape[0],1)),0,x,y,0.00009,iterations)\n",
    "# plotting the graph\n",
    "plt.plot(np.arange(iterations),c_list,label = 'cost v number of iterarions')\n",
    "plt.xlabel('iterations')\n",
    "plt.ylabel('cost')\n",
    "plt.show()"
   ]
  },
  {
   "cell_type": "markdown",
   "id": "a61dafdb",
   "metadata": {},
   "source": [
    "## Linear Regression using pandas and numpy <a id='the_basic_lr'><a/>"
   ]
  },
  {
   "cell_type": "markdown",
   "id": "67bde002",
   "metadata": {},
   "source": [
    "\n",
    "\n",
    "In this section we will use numpy and pandas to build a linear regression model to fit a line through some data points which will act as very basic machine learning model to predict a y for a given x value. This will be done by implementing  gradient descent.\n",
    "\n",
    "#### The concept\n",
    "\n",
    "Linear Regression's basic concept is manipulating the values of slope(w) and intercept(b) to create a line such that it is closest to all the datapoints on the graph for a given x and y where x is independant variable and y is a dependant variable.\n",
    "\n",
    "#### How do we do it\n",
    "\n",
    "* We randomly initialise our w and b to some initial values\n",
    "* We calculate y_predicted for these w and b values\n",
    "* We calculate y_predicted which is the predicted value of y based on the input x and randomly initialised parameters w and b.\n",
    "Now we want to know how good is our predicted y. How can we do this?\n",
    "We can do this by comparing the predicted and actual y value. As it is a supervised learning technique we have our actual y to steer our model towards it.\n",
    "We use a cost(also termed as loss for individual x and y pairs) function which we want to minimise.\n",
    "                            c=1/m(y_predicted-y)^2\n",
    "So now if we want to minimise c we would want to find the derivative of c with respect to w and b so that we can know how much and by what value we should change our w and b to get a y_predicted as close as y (our ground truth).\n",
    "We will call these shifts dw and db. \n",
    "\n",
    "* dw is the rate of change of c with respect to w parameter\n",
    "* db is rate of change of c with respect to b parameter\n",
    "\n",
    "We find this by differentiating c w.r.t w and b so we get\n",
    "* dw = (2/n)*(y'-y)x \n",
    "* db = (2/n)*(y'-y) \n",
    "\n",
    "where n is the number of training examples for our know pairs of x and y. We will use these shift to tweak our w and b with a learning rate alpha. this learning rate determines by what fraction by which we want to take a step towards our actual y. We have to be carefull when we set initialise a value for alpha as it cant be too high or too low. So our change in w and b will be determined by dw and db as follows:\n",
    "\n",
    "* w = w + alpha*(1/n)*dw\n",
    "* b = b + alpha*(1/n)*db\n",
    "\n",
    "We do this process in multiple iterations to get a good result of w and b parameters which compute y_predicted as close as y."
   ]
  },
  {
   "cell_type": "code",
   "execution_count": 44,
   "id": "ed7c6b7b",
   "metadata": {
    "scrolled": true
   },
   "outputs": [
    {
     "data": {
      "text/html": [
       "<div>\n",
       "<style scoped>\n",
       "    .dataframe tbody tr th:only-of-type {\n",
       "        vertical-align: middle;\n",
       "    }\n",
       "\n",
       "    .dataframe tbody tr th {\n",
       "        vertical-align: top;\n",
       "    }\n",
       "\n",
       "    .dataframe thead th {\n",
       "        text-align: right;\n",
       "    }\n",
       "</style>\n",
       "<table border=\"1\" class=\"dataframe\">\n",
       "  <thead>\n",
       "    <tr style=\"text-align: right;\">\n",
       "      <th></th>\n",
       "      <th>X</th>\n",
       "      <th>Y</th>\n",
       "    </tr>\n",
       "  </thead>\n",
       "  <tbody>\n",
       "    <tr>\n",
       "      <th>0</th>\n",
       "      <td>108</td>\n",
       "      <td>392.5</td>\n",
       "    </tr>\n",
       "    <tr>\n",
       "      <th>1</th>\n",
       "      <td>19</td>\n",
       "      <td>46.2</td>\n",
       "    </tr>\n",
       "    <tr>\n",
       "      <th>2</th>\n",
       "      <td>13</td>\n",
       "      <td>15.7</td>\n",
       "    </tr>\n",
       "    <tr>\n",
       "      <th>3</th>\n",
       "      <td>124</td>\n",
       "      <td>422.2</td>\n",
       "    </tr>\n",
       "    <tr>\n",
       "      <th>4</th>\n",
       "      <td>40</td>\n",
       "      <td>119.4</td>\n",
       "    </tr>\n",
       "  </tbody>\n",
       "</table>\n",
       "</div>"
      ],
      "text/plain": [
       "     X      Y\n",
       "0  108  392.5\n",
       "1   19   46.2\n",
       "2   13   15.7\n",
       "3  124  422.2\n",
       "4   40  119.4"
      ]
     },
     "execution_count": 44,
     "metadata": {},
     "output_type": "execute_result"
    }
   ],
   "source": [
    "import matplotlib.pyplot as plt\n",
    "import pandas as pd\n",
    "import numpy as np\n",
    "from sklearn.model_selection import train_test_split\n",
    "\n",
    "df = pd.read_csv(\"files/swedish_insurance.csv\")\n",
    "df.head()"
   ]
  },
  {
   "cell_type": "code",
   "execution_count": 45,
   "id": "62d32401",
   "metadata": {},
   "outputs": [
    {
     "data": {
      "image/png": "[encoded data removed]",
      "text/plain": [
       "<Figure size 640x480 with 1 Axes>"
      ]
     },
     "metadata": {},
     "output_type": "display_data"
    }
   ],
   "source": [
    "plt.scatter(df.X,df.Y,label='X vs Y',color='y',alpha=.5)\n",
    "plt.xlabel('X')\n",
    "plt.ylabel('Y')\n",
    "plt.show()"
   ]
  },
  {
   "cell_type": "markdown",
   "id": "e774cd76",
   "metadata": {},
   "source": [
    "#### Spliting data into training and testing sets\n",
    "\n",
    "When ever we get a data from soemwhere we tend to slipt the data into 2 sets:\n",
    "* Training Data: For training the model to learn the parameters\n",
    "* Testing Data: For testing the accuracy of the model to see how good is the model\n",
    "\n",
    "This spliting of data is done randomely so that the data is evenly distributed and the model gets a uniform diversity. We use sklearn library's train_test_split() function which splits the data randomly for us"
   ]
  },
  {
   "cell_type": "code",
   "execution_count": 46,
   "id": "9b586368",
   "metadata": {},
   "outputs": [
    {
     "data": {
      "image/png": "[encoded data removed]",
      "text/plain": [
       "<Figure size 640x480 with 1 Axes>"
      ]
     },
     "metadata": {},
     "output_type": "display_data"
    }
   ],
   "source": [
    "x_train,x_test,y_train,y_test  = train_test_split(df.X,df.Y)\n",
    "plt.scatter(x_train,y_train,label='Training Data',color='g',alpha=.5)\n",
    "plt.scatter(x_test,y_test,label='Testing Data',color='r',alpha=.5)\n",
    "plt.legend()\n",
    "plt.xlabel('X')\n",
    "plt.ylabel('Y')\n",
    "plt.show()"
   ]
  },
  {
   "cell_type": "markdown",
   "id": "27d6e4d1",
   "metadata": {},
   "source": [
    "#### Using pandas to get the data and numpy for calculations\n",
    "\n",
    "* We use read_csv function of pandas to get the X,Y values from a csv file and populate a DataFrame for visualisation.\n",
    "* To plot X and Y on a scatter plot we use matplotlib to pass X and Y values in the scatter function.\n",
    "* We can also use sklearn's train_test_split method to split our data into testing and training data randomly so that we can train our model on a section of our data and get a more general values in our data."
   ]
  },
  {
   "cell_type": "code",
   "execution_count": 47,
   "id": "d98b9b6f",
   "metadata": {
    "scrolled": false
   },
   "outputs": [
    {
     "name": "stdout",
     "output_type": "stream",
     "text": [
      "predicted w paramter: 3.877127382241032 ,predicted b parameter: 0.5815072813000436\n"
     ]
    }
   ],
   "source": [
    "def gradient_descent(x,y,w,b,alpha):\n",
    "    dw = 0\n",
    "    db = 0\n",
    "    n = x.shape[0]\n",
    "    for xi,yi in zip(x,y):\n",
    "        db += 2*(yi-(np.dot(w,xi)+b))/n\n",
    "        dw += 2*np.dot(xi,(yi-np.dot(w,xi)+b))/n\n",
    "    b = b + alpha*db\n",
    "    w = w + alpha*dw\n",
    "    return w,b\n",
    "\n",
    "w=0\n",
    "b=0\n",
    "n=len(x_train)\n",
    "iterations=4000\n",
    "for i in range(iterations):\n",
    "    w,b = gradient_descent(x_train,y_train,w,b,0.000005)\n",
    "    y_hat=np.dot(w,x_train)+b\n",
    "    loss = np.divide(np.sum((y_train - y_hat)**2),n)\n",
    "print(\"predicted w paramter:\",w,\",predicted b parameter:\",b)"
   ]
  },
  {
   "cell_type": "code",
   "execution_count": 48,
   "id": "7cb31700",
   "metadata": {},
   "outputs": [
    {
     "data": {
      "image/png": "[encoded data removed]",
      "text/plain": [
       "<Figure size 640x480 with 1 Axes>"
      ]
     },
     "metadata": {},
     "output_type": "display_data"
    }
   ],
   "source": [
    "x_train,x_test,y_train,y_test  = train_test_split(df.X,df.Y)\n",
    "x_train,x_test,y_train,y_test  = train_test_split(df.X,df.Y)\n",
    "plt.scatter(x_train,y_train,label='Training Data',color='g',alpha=.5)\n",
    "plt.scatter(x_test,y_test,label='Testing Data',color='r',alpha=.5)\n",
    "plt.plot(x_train,w*x_train+b, '-r', label='model')\n",
    "plt.xlabel('X')\n",
    "plt.ylabel('Y')\n",
    "plt.grid()\n",
    "plt.legend()\n",
    "plt.show()"
   ]
  },
  {
   "cell_type": "markdown",
   "id": "6f60ba9f",
   "metadata": {},
   "source": [
    "## Using sklearn library to implement the same Linear Regression <a id='the_sklearn'><a/>"
   ]
  },
  {
   "cell_type": "markdown",
   "id": "ef7a775e",
   "metadata": {},
   "source": [
    "* Here we just passed out data to a predefined Linear Regression model of sklearn and then plot our model and data using matplotlib\n",
    "* We then compare our simple model in a graph using numpy and pandas with the model generated by sklearn."
   ]
  },
  {
   "cell_type": "code",
   "execution_count": 49,
   "id": "6d565c56",
   "metadata": {},
   "outputs": [],
   "source": [
    "from sklearn.linear_model import LinearRegression\n",
    "from sklearn.model_selection import train_test_split\n",
    "import pandas as pd\n",
    "import numpy as np"
   ]
  },
  {
   "cell_type": "code",
   "execution_count": 50,
   "id": "5cfd8282",
   "metadata": {},
   "outputs": [
    {
     "data": {
      "image/png": "[encoded data removed]",
      "text/plain": [
       "<Figure size 640x480 with 1 Axes>"
      ]
     },
     "metadata": {},
     "output_type": "display_data"
    }
   ],
   "source": [
    "df = pd.read_csv(\"files/swedish_insurance.csv\")\n",
    "LR = LinearRegression()\n",
    "\n",
    "LR.fit(x_train.values.reshape(-1,1),y_train.values)\n",
    "prediction = LR.predict(x_train.values.reshape(-1,1))\n",
    "\n",
    "plt.plot(x_train,prediction,label='sklearn model',color='b')\n",
    "plt.plot(x_train,(w*x_train+b), '-r', label='simple model with numpy and pandas')\n",
    "plt.scatter(x_train,y_train,label='Training Data',color='g',alpha=.5)\n",
    "plt.scatter(x_test,y_test,label='Testing Data',color='r',alpha=.5)\n",
    "plt.legend()\n",
    "plt.xlabel('X')\n",
    "plt.ylabel('Y')\n",
    "plt.grid()\n",
    "plt.show()"
   ]
  },
  {
   "cell_type": "markdown",
   "id": "2bc45cc0",
   "metadata": {},
   "source": [
    "## Conclusion <a id='the_conclusion'><a/>"
   ]
  },
  {
   "cell_type": "markdown",
   "id": "f5158ed7",
   "metadata": {},
   "source": [
    "Now in the end I would like to conclude this notebook but the learning never stops as there is more to Jupyter than this simple notebook. We discussed about basic of numpy, pandas, matplotlib and sklearn to plotted some graphs and trained some models. To learn more about jupyter and these libraries I want my readers to explore from there own from now on to learn from practice and keep on using Jupyter!"
   ]
  },
  {
   "cell_type": "markdown",
   "id": "d125bbe9",
   "metadata": {},
   "source": [
    "## References <a id='the_reference'><a/>"
   ]
  },
  {
   "cell_type": "markdown",
   "id": "1c35f5ba",
   "metadata": {},
   "source": [
    "* www.google.com From here I learnt few things related to the code blocks you can see in the notebook.\n",
    "\n",
    "* https://www.bing.com/videos/search?q=how+to+install+python+on+mac&view=detail&mid=4D5033EE04F9F15E26BA4D5033EE04F9F15E26BA&FORM=VIRE%20#%20for%20AI%20CW I took help from this tutorial for instalation.\n",
    "    \n",
    "* https://www.youtube.com/watch?v=HW29067qVWk&t=1636s&ab_channel=CoreySchafer From this video I learnt a few Jupyter Notebook Features and getting started with the notebook\n",
    "\n",
    "* https://www.youtube.com/watch?v=RnFGwxJwx-0&t=11388s&ab_channel=GreatLearning From here I learnt about libraries like pandas, and numpy\n",
    "\n",
    "* https://www.youtube.com/watch?v=ar8mUO3d05w&ab_channel=CodingLane From here I understood the maths for logistic regression.\n",
    "\n",
    "* https://www.youtube.com/watch?v=GwVTM28HKYk&ab_channel=giant_neural_network This reference for the maths of Linear Regression and Neural Networks. From this I only understood the concept and implemented in my way."
   ]
  }
 ],
 "metadata": {
  "kernelspec": {
   "display_name": "Python 3 (ipykernel)",
   "language": "python",
   "name": "python3"
  },
  "language_info": {
   "codemirror_mode": {
    "name": "ipython",
    "version": 3
   },
   "file_extension": ".py",
   "mimetype": "text/x-python",
   "name": "python",
   "nbconvert_exporter": "python",
   "pygments_lexer": "ipython3",
   "version": "3.10.7"
  }
 },
 "nbformat": 4,
 "nbformat_minor": 5
}
